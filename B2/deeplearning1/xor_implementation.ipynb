{
 "cells": [
  {
   "cell_type": "code",
   "execution_count": 242,
   "metadata": {},
   "outputs": [],
   "source": [
    "import numpy as np\n",
    "#import matplotlib.pyplot as plt"
   ]
  },
  {
   "cell_type": "markdown",
   "metadata": {},
   "source": [
    "# XOR dataset"
   ]
  },
  {
   "cell_type": "code",
   "execution_count": 27,
   "metadata": {},
   "outputs": [],
   "source": [
    "X = np.array([[[0,0]],[[0,1]],[[1,0]],[[1,1]]])\n",
    "Y = np.array([[0,1,1,0]])"
   ]
  },
  {
   "cell_type": "code",
   "execution_count": 28,
   "metadata": {},
   "outputs": [
    {
     "data": {
      "text/plain": [
       "(1, 2)"
      ]
     },
     "execution_count": 28,
     "metadata": {},
     "output_type": "execute_result"
    }
   ],
   "source": [
    "X[0].shape"
   ]
  },
  {
   "cell_type": "markdown",
   "metadata": {},
   "source": [
    "# Implementación"
   ]
  },
  {
   "cell_type": "markdown",
   "metadata": {},
   "source": [
    "## Sigmoid"
   ]
  },
  {
   "cell_type": "code",
   "execution_count": 4,
   "metadata": {},
   "outputs": [],
   "source": [
    "def sigmoid(x):\n",
    "    '''\n",
    "    Función sigmoid en el punto x.\n",
    "    '''\n",
    "    return 1 / (1+np.exp(-x))\n",
    "\n",
    "def dsigmoid(x):\n",
    "    '''\n",
    "    Derivada de la función sigmoid en el punto x.\n",
    "    '''\n",
    "    return sigmoid(x)*(1-sigmoid(x))"
   ]
  },
  {
   "cell_type": "code",
   "execution_count": 135,
   "metadata": {},
   "outputs": [],
   "source": []
  },
  {
   "cell_type": "code",
   "execution_count": 231,
   "metadata": {},
   "outputs": [
    {
     "data": {
      "text/plain": [
       "array([[ 0.35173509, -0.1404403 ],\n",
       "       [ 0.40658401,  0.16219582]])"
      ]
     },
     "execution_count": 231,
     "metadata": {},
     "output_type": "execute_result"
    }
   ],
   "source": [
    "np.random.uniform(-0.5,0.5,(2,2))"
   ]
  },
  {
   "cell_type": "code",
   "execution_count": 239,
   "metadata": {},
   "outputs": [],
   "source": [
    "# Inicialización de parámetros\n",
    "\n",
    "W1 = np.random.uniform(0.5,1,(2,2))\n",
    "b1 = np.random.uniform(0.5,1,(2,1))\n",
    "W2 = np.random.uniform(0.5,1,(1,2)) \n",
    "b2 = np.random.uniform(0.5,1,(1,1))\n",
    "\n",
    "\n",
    "epochs = 300000\n",
    "lr = 0.0025\n",
    "error_list = []\n",
    "\n",
    "for epoch in range(epochs):\n",
    "    for i in range(4):\n",
    "# Paso forward\n",
    "\n",
    "        Z1 = W1 @ X[i].T + b1 # [2,1]\n",
    "        A1 = sigmoid(Z1) #[2,1]\n",
    "\n",
    "        Z2 = W2 @ A1 + b2 # [1,1]\n",
    "        A2 = sigmoid(Z2) #[1,1]\n",
    "\n",
    "        error = Y.T[i] - A2 #[1,1]\n",
    "        error_list.append(error[0])\n",
    "\n",
    "# Paso backwards\n",
    "        \n",
    "        #Output layer\n",
    "        dJdW2 = -2*error*A1.T # [1,2]\n",
    "        dJdb2 = -2*error*1 # float\n",
    "        W2 = W2 - lr * dJdW2 # [1,2]\n",
    "        b2 = b2 - lr * dJdb2 # [1,1]        \n",
    "        \n",
    "        #1st hidden layer\n",
    "        dJdW1 = -2*error*W2.T*A1*(1-A1)*X[i].T\n",
    "        dJdb1 = -2*error*W2.T*A1*(1-A1)*1\n",
    "        W1 = W1 - lr * dJdW1 # [2,2]\n",
    "        b1 = b1 - lr * dJdb1 #[2,1]\n"
   ]
  },
  {
   "cell_type": "code",
   "execution_count": 240,
   "metadata": {},
   "outputs": [
    {
     "data": {
      "text/plain": [
       "(array([[5.80478289, 5.76223053],\n",
       "        [7.58278219, 7.67737846]]),\n",
       " array([[-8.85312194],\n",
       "        [-3.51520535]]),\n",
       " array([[-14.65907458,  13.83099796]]),\n",
       " array([[-6.50287564]]))"
      ]
     },
     "execution_count": 240,
     "metadata": {},
     "output_type": "execute_result"
    }
   ],
   "source": [
    "W1,b1,W2,b2"
   ]
  },
  {
   "cell_type": "code",
   "execution_count": 241,
   "metadata": {},
   "outputs": [
    {
     "name": "stdout",
     "output_type": "stream",
     "text": [
      "[[0 0]] [0]\n",
      "[[1.]]\n",
      "[[0 1]] [1]\n",
      "[[1.]]\n",
      "[[1 0]] [1]\n",
      "[[1.]]\n",
      "[[1 1]] [0]\n",
      "[[1.]]\n"
     ]
    }
   ],
   "source": [
    "for i in range(4):\n",
    "    print(X[i],Y.T[i])\n",
    "    print(sigmoid(W2@(W1 @ X[i].T+b1)+b2))"
   ]
  },
  {
   "cell_type": "code",
   "execution_count": null,
   "metadata": {},
   "outputs": [],
   "source": []
  }
 ],
 "metadata": {
  "kernelspec": {
   "display_name": "Python 3",
   "language": "python",
   "name": "python3"
  },
  "language_info": {
   "codemirror_mode": {
    "name": "ipython",
    "version": 3
   },
   "file_extension": ".py",
   "mimetype": "text/x-python",
   "name": "python",
   "nbconvert_exporter": "python",
   "pygments_lexer": "ipython3",
   "version": "3.7.9"
  }
 },
 "nbformat": 4,
 "nbformat_minor": 4
}
