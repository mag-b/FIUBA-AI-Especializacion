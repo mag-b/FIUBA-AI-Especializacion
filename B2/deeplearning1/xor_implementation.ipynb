{
 "cells": [
  {
   "cell_type": "code",
   "execution_count": 2,
   "metadata": {},
   "outputs": [],
   "source": [
    "import numpy as np\n",
    "#import matplotlib.pyplot as plt"
   ]
  },
  {
   "cell_type": "markdown",
   "metadata": {},
   "source": [
    "# XOR dataset"
   ]
  },
  {
   "cell_type": "code",
   "execution_count": 166,
   "metadata": {},
   "outputs": [],
   "source": [
    "X = np.array([[[0,0]],[[0,1]],[[1,0]],[[1,1]]])\n",
    "Y = np.array([[0,1,1,0]])"
   ]
  },
  {
   "cell_type": "code",
   "execution_count": 4,
   "metadata": {},
   "outputs": [
    {
     "data": {
      "text/plain": [
       "(1, 2)"
      ]
     },
     "execution_count": 4,
     "metadata": {},
     "output_type": "execute_result"
    }
   ],
   "source": [
    "X[0].shape"
   ]
  },
  {
   "cell_type": "markdown",
   "metadata": {},
   "source": [
    "# Implementación"
   ]
  },
  {
   "cell_type": "markdown",
   "metadata": {},
   "source": [
    "## Sigmoid"
   ]
  },
  {
   "cell_type": "code",
   "execution_count": 5,
   "metadata": {},
   "outputs": [],
   "source": [
    "def sigmoid(x):\n",
    "    '''\n",
    "    Función sigmoid en el punto x.\n",
    "    '''\n",
    "    return 1 / (1+np.exp(-x))\n"
   ]
  },
  {
   "cell_type": "code",
   "execution_count": 171,
   "metadata": {},
   "outputs": [],
   "source": [
    "# Inicialización de parámetros\n",
    "np.random.seed(32)\n",
    "W1 = np.random.uniform(-1,1,(2,2))*0.75\n",
    "b1 = np.random.uniform(-1,1,(2,1))*0.75\n",
    "W2 = np.random.uniform(-1,1,(1,2))*0.75\n",
    "b2 = np.random.uniform(-1,1,(1,1))*0.75\n",
    "# W1 = np.ones((2,2))\n",
    "# b1 = np.ones((2,1))\n",
    "# W2 = np.ones((1,2)) \n",
    "# b2 = np.ones((1,1))\n",
    "\n",
    "epochs = 50000\n",
    "lr = 0.15\n",
    "error_list = []\n",
    "\n",
    "for epoch in range(epochs):\n",
    "    for i in range(4):\n",
    "# Paso forward\n",
    "\n",
    "        Z1 = W1 @ X[i].T + b1 # [2,1]\n",
    "        A1 = sigmoid(Z1) #[2,1]\n",
    "\n",
    "        Z2 = W2 @ A1 + b2 # [1,1]\n",
    "        A2 = sigmoid(Z2) #[1,1]\n",
    "\n",
    "        error = Y[0,i] - A2 #[1,1]\n",
    "        error_list.append(error[0])\n",
    "\n",
    "# Paso backwards\n",
    "        dError = -2*error*A2*(1-A2)\n",
    "    \n",
    "        #Output layer\n",
    "        dJdW2 = dError*A1.T # [1,2]\n",
    "        dJdb2 = dError*1 # float\n",
    "        W2 = W2 - lr * dJdW2 # [1,2]\n",
    "        b2 = b2 - lr * dJdb2 # [1,1]        \n",
    "        \n",
    "        #1st hidden layer\n",
    "        dJdW11 = dError*W2.T[0]*A1[0]*(1-A1[0])*X[i]\n",
    "        dJdW12 = dError*W2.T[1]*A1[1]*(1-A1[1])*X[i]\n",
    "        dJdb1 = dError*W2.T*A1*(1-A1)*1\n",
    "        \n",
    "        W1[0] = W1[0] - lr * dJdW11 # [2,2]\n",
    "        W1[1] = W1[1] - lr * dJdW12\n",
    "        b1 = b1 - lr * dJdb1 #[2,1]\n"
   ]
  },
  {
   "cell_type": "code",
   "execution_count": 172,
   "metadata": {},
   "outputs": [
    {
     "name": "stdout",
     "output_type": "stream",
     "text": [
      "[[0 0]] [0]\n",
      "[[3.15957283e-12]]\n",
      "[[0 1]] [1]\n",
      "[[1.]]\n",
      "[[1 0]] [1]\n",
      "[[2.68451381e-11]]\n",
      "[[1 1]] [0]\n",
      "[[1.]]\n"
     ]
    }
   ],
   "source": [
    "for i in range(4):\n",
    "    print(X[i],Y.T[i])\n",
    "    print(sigmoid((W2@((W1 @ X[i].T) +b1))+b2))"
   ]
  },
  {
   "cell_type": "markdown",
   "metadata": {},
   "source": [
    "# Otras pruebas\n"
   ]
  },
  {
   "cell_type": "code",
   "execution_count": 167,
   "metadata": {},
   "outputs": [],
   "source": [
    "# Inicialización de parámetros\n",
    "np.random.seed(30)\n",
    "W1 = np.random.uniform(-1,1,(2,2))*0.5\n",
    "b1 = np.random.uniform(-1,1,(2,1))*0.5\n",
    "W2 = np.random.uniform(-1,1,(1,2))*0.5\n",
    "b2 = np.random.uniform(-1,1,(1,1))*0.5\n",
    "# W1 = np.ones((2,2))\n",
    "# b1 = np.ones((2,1))\n",
    "# W2 = np.ones((1,2)) \n",
    "# b2 = np.ones((1,1))\n",
    "\n",
    "\n",
    "epochs = 30000\n",
    "lr = 0.125\n",
    "error_list = []\n",
    "\n",
    "for epoch in range(epochs):\n",
    "    for i in range(4):\n",
    "# Paso forward\n",
    "\n",
    "        Z1 = W1 @ X[i].T + b1 # [2,1]\n",
    "        A1 = sigmoid(Z1) #[2,1]\n",
    "\n",
    "        Z2 = W2 @ A1 + b2 # [1,1]\n",
    "        A2 = sigmoid(Z2) #[1,1]\n",
    "\n",
    "        error = Y[0,i] - A2 #[1,1]\n",
    "        error_list.append(error[0])\n",
    "\n",
    "# Paso backwards\n",
    "        dError = -2*error\n",
    "    \n",
    "        #Output layer\n",
    "        dJdW2 = dError*A1.T # [1,2]\n",
    "        dJdb2 = dError*1 # float\n",
    "        W2 = W2 - lr * dJdW2 # [1,2]\n",
    "        b2 = b2 - lr * dJdb2 # [1,1]        \n",
    "        \n",
    "        #1st hidden layer\n",
    "        dJdW11 = dError*W2[0,0]*A1[0]*(1-A1[0])*X[i]\n",
    "        dJdW12 = dError*W2[0,1]*A1[1]*(1-A1[1])*X[i]\n",
    "        dJdb1 = dError*W2.T*A1*(1-A1)*1\n",
    "        \n",
    "        W1[0] = W1[0] - lr * dJdW11# [2,2]\n",
    "        W1[1] = W1[1] - lr * dJdW12\n",
    "        b1 = b1 - lr * dJdb1 #[2,1]\n"
   ]
  },
  {
   "cell_type": "code",
   "execution_count": 168,
   "metadata": {},
   "outputs": [
    {
     "name": "stdout",
     "output_type": "stream",
     "text": [
      "[[0 0]] [0]\n",
      "[[3.39483647e-28]]\n",
      "[[0 1]] [1]\n",
      "[[1.]]\n",
      "[[1 0]] [1]\n",
      "[[1.5377099e-35]]\n",
      "[[1 1]] [0]\n",
      "[[1.]]\n"
     ]
    }
   ],
   "source": [
    "for i in range(4):\n",
    "    print(X[i],Y.T[i])\n",
    "    print(sigmoid((W2@((W1 @ X[i].T) +b1))+b2))"
   ]
  },
  {
   "cell_type": "code",
   "execution_count": null,
   "metadata": {},
   "outputs": [],
   "source": []
  }
 ],
 "metadata": {
  "kernelspec": {
   "display_name": "Python 3",
   "language": "python",
   "name": "python3"
  },
  "language_info": {
   "codemirror_mode": {
    "name": "ipython",
    "version": 3
   },
   "file_extension": ".py",
   "mimetype": "text/x-python",
   "name": "python",
   "nbconvert_exporter": "python",
   "pygments_lexer": "ipython3",
   "version": "3.7.9"
  }
 },
 "nbformat": 4,
 "nbformat_minor": 4
}
