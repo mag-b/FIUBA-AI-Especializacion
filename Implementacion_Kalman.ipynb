{
  "nbformat": 4,
  "nbformat_minor": 0,
  "metadata": {
    "colab": {
      "name": "Implementacion_Kalman.ipynb",
      "provenance": [],
      "collapsed_sections": []
    },
    "kernelspec": {
      "name": "python3",
      "display_name": "Python 3"
    }
  },
  "cells": [
    {
      "cell_type": "code",
      "metadata": {
        "id": "1kaM8SuFokU9",
        "colab_type": "code",
        "colab": {}
      },
      "source": [
        "import numpy as np\n",
        "import pandas as pd \n",
        "import matplotlib.pyplot as plt"
      ],
      "execution_count": 1,
      "outputs": []
    },
    {
      "cell_type": "code",
      "metadata": {
        "id": "IGXZ6ZrZo6on",
        "colab_type": "code",
        "colab": {}
      },
      "source": [
        "path = '/content/drive/My Drive/EspecializacionUBA/Matematica/FiltrodeKalman/'"
      ],
      "execution_count": 2,
      "outputs": []
    },
    {
      "cell_type": "code",
      "metadata": {
        "id": "8ZxiB7Mwpdqy",
        "colab_type": "code",
        "colab": {}
      },
      "source": [
        "pos = pd.read_csv(path+'posicion.dat',sep=\"\\s+\",names=['t','x','y','z'])\n",
        "vel = pd.read_csv(path+'velocidad.dat',sep=\"\\s+\",names=['t','x_','y_','z_'])\n",
        "acc = pd.read_csv(path+'aceleracion.dat',sep=\"\\s+\",names=['t','x__','y__','z__'])"
      ],
      "execution_count": 3,
      "outputs": []
    },
    {
      "cell_type": "code",
      "metadata": {
        "id": "9VTlzduCt9sW",
        "colab_type": "code",
        "colab": {}
      },
      "source": [
        "vehiculo = pd.concat([pos,vel[['x_','y_','z_']],acc[['x__','y__','z__']]],join='inner',axis=1)"
      ],
      "execution_count": 4,
      "outputs": []
    },
    {
      "cell_type": "code",
      "metadata": {
        "id": "utu_e22NrpaD",
        "colab_type": "code",
        "colab": {}
      },
      "source": [
        "#pos_ = np.genfromtxt(path+'posicion.dat',dtype=[('t', 'float'), ('x', 'float'), ('y', 'float'),('z', 'float')])\n",
        "#vel_ = np.genfromtxt(path+'velocidad.dat',dtype=[('t', 'float'), ('x', 'float'), ('y', 'float'),('z', 'float')])\n",
        "#acc_ = np.genfromtxt(path+'aceleracion.dat',dtype=[('t', 'float'), ('x', 'float'), ('y', 'float'),('z', 'float')])"
      ],
      "execution_count": null,
      "outputs": []
    },
    {
      "cell_type": "markdown",
      "metadata": {
        "id": "fvPn4Y1-tGSD",
        "colab_type": "text"
      },
      "source": [
        "# Matrices necesarias para el algoritmo"
      ]
    },
    {
      "cell_type": "code",
      "metadata": {
        "id": "ybtx5ywruvG6",
        "colab_type": "code",
        "colab": {}
      },
      "source": [
        "# Creo el data set de predicciones con la posición inicial dada\n",
        "predicciones_0_0 = pd.DataFrame({'x':[10.7533],'y':[36.6777],'z':[-45.1769],\n",
        "                             'x_':[1.1009],'y_':[-17.0],'z_':[35.7418],\n",
        "                             'x__':[-5.7247],'y__':[3.4268],'z__':[5.2774]})"
      ],
      "execution_count": 5,
      "outputs": []
    },
    {
      "cell_type": "code",
      "metadata": {
        "id": "sDjhxqooxj3F",
        "colab_type": "code",
        "colab": {}
      },
      "source": [
        "#Matriz de covarianza de la posición inicial\n",
        "P_0_0 = np.diag(v=[100, 100, 100, 1, 1, 1, 0.01, 0.01, 0.01],k=0)"
      ],
      "execution_count": 6,
      "outputs": []
    },
    {
      "cell_type": "code",
      "metadata": {
        "id": "swW3-Q0OyBb8",
        "colab_type": "code",
        "colab": {}
      },
      "source": [
        "\n",
        "Q =  np.eye(N=9,M=9) * 0.3"
      ],
      "execution_count": 7,
      "outputs": []
    },
    {
      "cell_type": "code",
      "metadata": {
        "id": "5EyFSO4Vu7aI",
        "colab_type": "code",
        "colab": {}
      },
      "source": [
        "# Creo el data set de predicciones con la posición inicial dada\n",
        "predicciones_0_0 = pd.DataFrame({'x':[10.7533],'y':[36.6777],'z':[-45.1769],\n",
        "                             'x_':[1.1009],'y_':[-17.0],'z_':[35.7418],\n",
        "                             'x__':[-5.7247],'y__':[3.4268],'z__':[5.2774]})"
      ],
      "execution_count": 8,
      "outputs": []
    },
    {
      "cell_type": "code",
      "metadata": {
        "id": "kbCwDPdEqY2f",
        "colab_type": "code",
        "colab": {}
      },
      "source": [
        "dT = 1 #Delta de tiempo medido\n",
        "\n",
        "# Filas de la matriz de la dinámica del sistema\n",
        "p_row = np.hstack( (np.eye(N=3,M=3),np.eye(N=3,M=3)* dT, np.eye(N=3,M=3)* (dT**2)/2) ) #Posición\n",
        "v_row = np.hstack( (np.zeros(shape=(3,3)),np.eye(N=3,M=3), np.eye(N=3,M=3)* dT) ) #Velocidad\n",
        "a_row = np.hstack( (np.zeros(shape=(3,3)),np.zeros(shape=(3,3)), np.eye(N=3,M=3)) ) # Aceleración\n",
        "\n",
        "A = np.vstack((p_row,v_row,a_row)) # Matriz con la dinámica del sistema"
      ],
      "execution_count": 9,
      "outputs": []
    },
    {
      "cell_type": "code",
      "metadata": {
        "id": "hfHQTYDwqpA6",
        "colab_type": "code",
        "colab": {}
      },
      "source": [
        "C = np.hstack( (np.eye(N=3,M=3),np.zeros(shape=(3,3)), np.zeros(shape=(3,3))))"
      ],
      "execution_count": 10,
      "outputs": []
    },
    {
      "cell_type": "markdown",
      "metadata": {
        "id": "zO81bWSUwfKG",
        "colab_type": "text"
      },
      "source": [
        "# Situacion 1: Ruido Gaussiano en la posicion"
      ]
    },
    {
      "cell_type": "code",
      "metadata": {
        "id": "Z7OIX3EHxOgM",
        "colab_type": "code",
        "colab": {}
      },
      "source": [
        "ruido_normal = np.random.normal(loc=0,scale=100,size=(5,3))\n",
        "# Posicion con primeros 5 valores con ruido gaussiano\n",
        "pos_gauss = pos.copy()\n",
        "pos_gauss.iloc[:5,1:4] = pos_gauss.iloc[:5,1:4] + ruido_normal#+ 11"
      ],
      "execution_count": 11,
      "outputs": []
    },
    {
      "cell_type": "code",
      "metadata": {
        "id": "1R24ZPX71iu5",
        "colab_type": "code",
        "colab": {}
      },
      "source": [
        "R = np.eye(N=3,M=3) *100"
      ],
      "execution_count": 12,
      "outputs": []
    },
    {
      "cell_type": "code",
      "metadata": {
        "id": "eHyekqnFt_2N",
        "colab_type": "code",
        "colab": {}
      },
      "source": [
        "vehiculo = pd.concat([pos_gauss,vel[['x_','y_','z_']],acc[['x__','y__','z__']]],join='inner',axis=1)"
      ],
      "execution_count": 13,
      "outputs": []
    },
    {
      "cell_type": "code",
      "metadata": {
        "id": "1zUMw8bY0HCY",
        "colab_type": "code",
        "colab": {}
      },
      "source": [
        "arranque = np.array(predicciones_0_0.iloc[0,:])"
      ],
      "execution_count": 14,
      "outputs": []
    },
    {
      "cell_type": "code",
      "metadata": {
        "id": "NstMKgHK-dXe",
        "colab_type": "code",
        "colab": {}
      },
      "source": [
        "# Creo el data set de predicciones con la posición inicial dada\n",
        "predicciones_0_0 = pd.DataFrame({'x':[10.7533],'y':[36.6777],'z':[-45.1769],\n",
        "                             'x_':[1.1009],'y_':[-17.0],'z_':[35.7418],\n",
        "                             'x__':[-5.7247],'y__':[3.4268],'z__':[5.2774]})"
      ],
      "execution_count": 15,
      "outputs": []
    },
    {
      "cell_type": "code",
      "metadata": {
        "id": "BEyRhM7tuXHY",
        "colab_type": "code",
        "colab": {}
      },
      "source": [
        "def Kalman(Xinic, Pinic, mediciones, A, C, Q, R):\n",
        "  #Holders\n",
        "  base_register  = pd.DataFrame({'x':[],'y':[],'z':[],\n",
        "                             'x_':[],'y_':[],'z_':[],\n",
        "                             'x__':[],'y__':[],'z__':[]})\n",
        "  #Xn1_n1 = base_register.copy()\n",
        "  Xn_n1  = base_register.copy()\n",
        "  Xn_n = base_register.copy()\n",
        "\n",
        "  #Pn1_n1 = np.zeros(shape=(1,9,9))\n",
        "  Pn_n1 = np.zeros(shape=(1,9,9))\n",
        "  Pn_n = np.zeros(shape=(1,9,9))\n",
        "\n",
        "  Kn = np.zeros(shape=(1,9,3))\n",
        "\n",
        "  #Inicializo parámetros\n",
        "  Xn_n.loc[0] = Xinic\n",
        "  Pn_n = Pinic.reshape((1,9,9))\n",
        "\n",
        "  #Algoritmo\n",
        "  times = len(mediciones)\n",
        "  for m in range(0,times):\n",
        "    Xn_n1.loc[m] = A @ Xn_n.loc[m]\n",
        "    \n",
        "    Pn_n1 = np.append(Pn_n1, (A @ Pn_n[m] @ A.T + Q).reshape((1,9,9)) ,axis=0) # B Q B pero B es la identidad en este caso, así que la omitimos\n",
        "    \n",
        "    Kn =  np.append(Kn, (Pn_n1[m+1] @ C.T @ np.linalg.inv(C@Pn_n1[m+1]@C.T + R)).reshape(1,9,3),axis=0 )\n",
        "    \n",
        "    Xn_n.loc[m+1] = Xn_n1.loc[m] + Kn[m+1] @ (mediciones.iloc[m,1:4] - C @ Xn_n1.loc[m])\n",
        "    \n",
        "    Pn_n = np.append(Pn_n, ((np.eye(N=9,M=9) - Kn[m+1] @ C) @ Pn_n1[m+1]).reshape((1,9,9)),axis=0)\n",
        "  \n",
        "  return Xn_n\n",
        "\n"
      ],
      "execution_count": 16,
      "outputs": []
    },
    {
      "cell_type": "code",
      "metadata": {
        "id": "PSTbqGzPuW-Z",
        "colab_type": "code",
        "colab": {}
      },
      "source": [
        "a = Kalman(arranque, P_0_0,  pos_gauss, A, C, Q, R)"
      ],
      "execution_count": 17,
      "outputs": []
    },
    {
      "cell_type": "code",
      "metadata": {
        "id": "g8a50dp3qY8-",
        "colab_type": "code",
        "colab": {
          "base_uri": "https://localhost:8080/",
          "height": 472
        },
        "outputId": "7c0e3512-df58-4c33-a429-579cab4b2846"
      },
      "source": [
        "f, ax= plt.subplots(figsize=(7.5,7.5))\n",
        "\n",
        "ax.plot(a.x,a.y,color='orange')\n",
        "\n",
        "ax.plot(pos_gauss.x,pos_gauss.y,color='green',ls='--',alpha=0.5)\n",
        "ax.set_title('PRED vs REAL - plano XY')\n",
        "plt.show()"
      ],
      "execution_count": 29,
      "outputs": [
        {
          "output_type": "display_data",
          "data": {
            "image/png": "[encoded data removed]",
            "text/plain": [
              "<Figure size 540x540 with 1 Axes>"
            ]
          },
          "metadata": {
            "tags": [],
            "needs_background": "light"
          }
        }
      ]
    },
    {
      "cell_type": "code",
      "metadata": {
        "id": "ZM_vzlxRZYTD",
        "colab_type": "code",
        "colab": {
          "base_uri": "https://localhost:8080/",
          "height": 542
        },
        "outputId": "e82ac222-e87e-4814-bb10-45cd7dbf567d"
      },
      "source": [
        "import plotly.express as px\n",
        "import plotly.graph_objects as go\n",
        "f = go.Figure()\n",
        "#fig = px.scatter_3d(a, x='x', y='y', z='z')\n",
        "f = px.scatter_3d(pos_gauss,'x','y','z')\n",
        "\n",
        "f.show()"
      ],
      "execution_count": null,
      "outputs": [
        {
          "output_type": "display_data",
          "data": {
            "text/html": [
              "<html>\n",
              "<head><meta charset=\"utf-8\" /></head>\n",
              "<body>\n",
              "    <div>\n",
              "            <script src=\"https://cdnjs.cloudflare.com/ajax/libs/mathjax/2.7.5/MathJax.js?config=TeX-AMS-MML_SVG\"></script><script type=\"text/javascript\">if (window.MathJax) {MathJax.Hub.Config({SVG: {font: \"STIX-Web\"}});}</script>\n",
              "                <script type=\"text/javascript\">window.PlotlyConfig = {MathJaxConfig: 'local'};</script>\n",
              "        <script src=\"https://cdn.plot.ly/plotly-latest.min.js\"></script>    \n",
              "            <div id=\"85035224-18dc-460b-893a-7812ba09a074\" class=\"plotly-graph-div\" style=\"height:525px; width:100%;\"></div>\n",
              "            <script type=\"text/javascript\">\n",
              "                \n",
              "                    window.PLOTLYENV=window.PLOTLYENV || {};\n",
              "                    \n",
              "                if (document.getElementById(\"85035224-18dc-460b-893a-7812ba09a074\")) {\n",
              "                    Plotly.newPlot(\n",
              "                        '85035224-18dc-460b-893a-7812ba09a074',\n",
              "                        [{\"hoverlabel\": {\"namelength\": 0}, \"hovertemplate\": \"x=%{x}<br>y=%{y}<br>z=%{z}\", \"legendgroup\": \"\", \"marker\": {\"color\": \"#636efa\", \"symbol\": \"circle\"}, \"mode\": \"markers\", \"name\": \"\", \"scene\": \"scene\", \"showlegend\": false, \"type\": \"scatter3d\", \"x\": [38.27254161639025, 68.54890827159355, -53.54395660659649, -14.46640742652588, 46.08148879481796, -57.61510063614696, -79.73652993235739, -104.0235344637185, -129.8901594458148, -156.75045009795573, -184.0184516375884, -211.10820928402245, -237.4607113497332, -262.8872311124578, -287.46816274058074, -311.289962570183, -334.4390869503841, -357.0019922219217, -379.0651347339153, -400.71497082617134, -422.0379568422212, -443.12054913025355, -464.0492040300742, -484.91037788800895, -505.7905270466581, -526.7761078532785, -547.9535189568998, -569.3785138763487, -591.0258782124147, -612.8571797916665, -634.8339864360169, -656.9178659683092, -679.0703862132505, -701.2531149946153, -723.4276201315224, -745.5554694468154, -767.5982307698578, -789.517471915111, -811.2747607119381, -832.8316649822519, -854.1497525470331, -875.1905912300572, -895.9157488541676, -916.2867932468653, -936.2652922226115, -955.8128136107698, -974.890925232321, -993.4611949110404, -1011.485190467909, -1028.924479729496, -1045.7406305149198, -1061.8955400632694, -1077.373698852025, -1092.1963479481635, -1106.3881011176854, -1119.9735721200702, -1132.9773747241125, -1145.4241226930174, -1157.3384297881275, -1168.744909776375, -1179.668176420033, -1190.1328434851018, -1200.163524732925, -1209.7848339295015, -1219.0213848380372, -1227.8977912236005, -1236.4386668475345, -1244.66862547677, -1252.6122808745133, -1260.2942468021065, -1267.7391370292753, -1274.9715653155001, -1282.01614542678, -1288.897491122596, -1295.6402161745355, -1302.2689343430102, -1308.8082593893632, -1315.2828050805256, -1321.7171851806345, -1328.1360134538265, -1334.5639036623759, -1341.025469571352, -1347.545324944891, -1354.1480835471302, -1360.8583591412753, -1367.7007654923946, -1374.6999163655566, -1381.88042551931, -1389.266906726174, -1396.883973741904, -1404.7562403352933, -1412.908320268616, -1421.3648273078727, -1430.1503752153367, -1439.2895777542144, -1448.8070486905053, -1458.7274017874151, -1469.0752508100122, -1479.8752095205707, -1491.151891682297, -1502.9299110621216, -1515.2338814213874, -1528.088416527957, -1541.5166907301173, -1555.5200173780322, -1570.0827143583447, -1585.1886526234448, -1600.821703129448, -1616.9657368371265, -1633.6046246979386, -1650.7222376717255, -1668.3024467136713, -1686.3291227817535, -1704.7861368283627, -1723.6573598114774, -1742.9266626881436, -1762.5779164144767, -1782.594991947524, -1802.9617602443325, -1823.6620922582224, -1844.6798589471728, -1865.99893126823, -1887.6031801756474, -1909.4764766292649, -1931.6026915833356, -1953.9656959921122, -1976.549360815436, -1999.3375570075586, -2022.3141555264594, -2045.4630273254586, -2068.7680433643986, -2092.2130745984614, -2115.781991983764, -2139.4586664745584, -2163.226969031617, -2187.0707706073295, -2210.9739421606064, -2234.9203546456993, -2258.8938790205866, -2282.8783862404525, -2306.8577472642064, -2330.815833042376, -2354.7365145385265, -2378.6036627031867, -2402.401148497127, -2426.112842874601, -2449.7226167907934, -2473.214341200888, -2496.571887067519, -2519.7791253421456, -2542.8199269790202, -2565.678162941709, -2588.3377041807403, -2610.782421653159, -2632.996186317876, -2654.962869128213, -2676.6663410412148, -2698.0904730148613, -2719.2191360034053, -2740.036200965755, -2760.5255388552328, -2780.671020629816, -2800.456517247483, -2819.865899661556, -2838.883038830012, -2857.4918057071045, -2875.6760712536047, -2893.4197064200416, -2910.7065821690485, -2927.520569451153, -2943.8455392261967, -2959.6655172519386, -2974.9742495333776, -2989.7808022974054, -3004.0955897644158, -3017.929026156664, -3031.291525690817, -3044.1935025881976, -3056.6453710692003, -3068.657545353286, -3080.240439659916, -3091.4044682104136, -3102.1600452223797, -3112.517584918067, -3122.4875015150765, -3132.0802092365916, -3141.306122299284, -3150.1756549226125, -3158.699221327901, -3166.8872357374053, -3174.7501123677935, -3182.2982654394586, -3189.5421091727912, -3196.4920577872545, -3203.158525504172, -3209.5519265420726, -3215.682675120421, -3221.5611854596063, -3227.1978717809548, -3232.603148302064, -3237.7874292451893, -3242.761128827929, -3247.534661270678, -3252.1184407938267, -3256.5228816187014, -3260.758397963829, -3264.8354040477425, -3268.7643140926957, -3272.5555423162878, -3276.219502940774, -3279.7666101828218, -3283.207278265618, -3286.5519214095552, -3289.8109538322315, -3292.994789751246, -3296.113843392581, -3299.1785289710388, -3302.199260707945, -3305.186452826485, -3308.150519540533, -3311.1018750760704, -3314.050933646038, -3317.0081094764173, -3319.9838167848065, -3322.9884697906678, -3326.032482716255, -3329.126269779168, -3332.2802452007313, -3335.504823197611, -3338.810417992994, -3342.2074438054115, -3345.7063148571174, -3349.317445363849, -3353.0512495478606, -3356.9181416295473, -3360.928535828367, -3365.092846364714, -3369.4214874552563, -3373.924873325043, -3378.613418189809, -3383.4975362708788, -3388.587641788646, -3393.894148962572, -3399.4274720111866, -3405.1980251558125, -3411.216222617775, -3417.4924786156043, -3424.03720736783, -3430.860823094845, -3437.973740019835, -3445.386372357607, -3453.109134331345, -3461.1524401586507, -3469.526704063639, -3478.242340262048, -3487.3097629742692, -3496.7393864216283, -3506.541624823585, -3516.7268923996016, -3527.305603371933, -3538.288171956316, -3549.685012375005, -3561.506538847461, -3573.763165594078, -3586.4653068343177, -3599.623376788572, -3613.2477896753694, -3627.348959716037, -3641.937301130965, -3657.0232281377534, -3672.617154958657, -3688.729495810345, -3705.370664917864, -3722.5510764941573, -3740.281144766137, -3758.568191115744, -3777.402233704925, -3796.767276431434, -3816.647317172028, -3837.0263537941505, -3857.8883841764173, -3879.217406184413, -3900.997417694889, -3923.2124165799464, -3945.8464007088924, -3968.88336795941, -3992.3073161980133, -4016.102243302391, -4040.252147141844, -4064.7410255903374, -4089.552876517177, -4114.671697799116, -4140.081487304531, -4165.766242909245, -4191.709962484426, -4217.896643902175, -4244.310285033657, -4270.934883754701, -4297.754437934607, -4324.752945447341, -4351.914404163137, -4379.222811957821, -4406.662166699767, -4434.216466267593, -4461.869708527811, -4489.605891354382, -4517.409012619406, -4545.263070196846, -4573.152061959729, -4601.059985776432, -4628.970839522779, -4656.868621069938, -4684.737328292802, -4712.560959059745, -4740.323511244729, -4768.008982721715, -4795.601371362805, -4823.084675038234, -4850.442891621962, -4877.660018986091, -4904.720055002719, -4931.606997545809, -4958.304844487458, -4984.797593696042, -5011.069243049249, -5037.103790418245, -5062.885233672336, -5088.397570687346, -5113.624799334444, -5138.550917485729, -5163.159923015161, -5187.43581379205, -5211.362587692216, -5234.924242585897, -5258.104776346125, -5280.888186844997, -5303.2584719564775, -5325.1996295508, -5346.69565750286, -5367.730553681031, -5388.288315962069, -5408.35294221621, -5427.908430316486, -5446.9387781359255, -5465.4279835438365, -5483.360044417903, -5500.718958623707, -5517.488724039868, -5533.65333853662, -5549.196799984202, -5564.103106257506], \"y\": [-211.3736877632683, -48.994636643156404, -12.719287066368716, -14.503209276484682, 52.95522509044543, -53.23437262023799, -58.48062850954011, -62.94001169316471, -67.04680795711465, -71.23530308995396, -75.93978287884966, -81.59453311236574, -88.60857303300872, -97.0436780755408, -106.70924897957592, -117.40900152060206, -128.94665147806518, -141.12591462628916, -153.75050674448718, -166.6241436090786, -179.5505409964826, -192.33341468544683, -204.77648045122623, -216.68345407256854, -227.8580513249617, -238.1039879873861, -247.22510856529698, -255.0936402531806, -261.7624849653803, -267.3140392617788, -271.8306997015606, -275.3948628446087, -278.08892525103875, -279.9952834800352, -281.19633409171365, -281.77447364479303, -281.812098700786, -281.3916058172472, -280.59539155522356, -279.5058524743654, -278.2053851345554, -276.7763860940468, -275.3012519136537, -273.8623791541904, -272.54216437297873, -271.4230041310657, -270.5872949881013, -270.1174335032701, -270.0958162371535, -270.6048397489357, -271.72690059803426, -273.5438316008076, -276.0988006214611, -279.37208237499, -283.3381797128822, -287.97159548522905, -293.2468325444497, -299.13839374203235, -305.6207819278352, -312.66849995497614, -320.25605067354627, -328.3579369352665, -336.9486615906935, -346.0027274917812, -355.49463749001734, -365.39889443619177, -375.6900011817925, -386.34246057854034, -397.33077547652647, -408.6294487277045, -420.21298318426125, -432.0558816958218, -444.1326471148058, -456.4177822920028, -468.8857900786679, -481.5111733269878, -494.2684348868206, -507.1320776101202, -520.0766043486074, -533.0765179530716, -546.1063212745357, -559.140517164953, -572.1536084748806, -585.1200980565045, -598.0144887599163, -610.811283437768, -623.4849849408492, -636.0100961194838, -648.3611198258585, -660.5125589109956, -672.4389162266161, -684.1146946235095, -695.5143969531636, -706.6125260670668, -717.3835848155433, -727.8020760507789, -737.842502624495, -747.4793673867825, -756.687173190061, -765.4404228844215, -773.713619321352, -781.4812653535045, -788.7178638309705, -795.3993711455258, -801.5238192954567, -807.1064025775995, -812.1627666032873, -816.7085569854825, -820.7594193376135, -824.3309992705472, -827.4389423977119, -830.098894331837, -832.3265006844886, -834.137407068163, -835.547259095125, -836.5717023788019, -837.22638253076, -837.5269451637287, -837.4890358904377, -837.1283003229182, -836.4603840732015, -835.5009327544831, -834.265591978794, -832.7700073593297, -831.0298245067241, -829.0606890348716, -826.8782465565017, -824.4981426824816, -821.9360230267047, -819.2075332005041, -816.3283188173082, -813.3140254886821, -810.1802988280542, -806.9427844462915, -803.6171279579864, -800.2189749733078, -796.7639711063823, -793.2677619685419, -789.7459931729828, -786.2143103315028, -782.6883590570651, -779.1837849617004, -775.7162336583714, -772.301350758411, -768.9547818754799, -765.6921726218424, -762.529168609297, -759.4814154498746, -756.5645587570033, -753.7942441434135, -751.1861172197384, -748.7558236005715, -746.519008897245, -744.4913187217898, -742.6883986876344, -741.1258944061119, -739.8194514906498, -738.7847155528142, -738.0373322055675, -737.5929470625705, -737.4672057332936, -737.6757538320961, -738.234236971708, -739.1583007636945, -740.4635908205527, -742.1657527547795, -744.2804321791044, -746.823274705792, -749.8099259473382, -753.2560315155424, -757.1772370242979, -761.5890336346347, -766.4972144395578, -771.8922872513068, -777.7634149675723, -784.0997604855804, -790.8904867023228, -798.1247565157245, -805.791732822312, -813.8805785207079, -822.3804565067404, -831.2805296792646, -840.5699609343428, -850.2379131698981, -860.2735492826904, -870.6660321711098, -881.4045247316824, -892.4781898616346, -903.8761904586572, -915.5876894197424, -927.6018496435137, -939.9078340253328, -952.4948054638223, -965.3519268555101, -978.4683610980863, -991.8332710892429, -1005.4358197262044, -1019.2651699054986, -1033.3104845255148, -1047.5609264830127, -1062.0056586754508, -1076.6338440000543, -1091.434645354282, -1106.3972256348934, -1121.5107477405106, -1136.7643745676614, -1152.147269013105, -1167.6485939752313, -1183.257512350101, -1198.9631870370356, -1214.7547809309324, -1230.621456930647, -1246.5523779336365, -1262.536706837127, -1278.5636065367146, -1294.622239932418, -1310.7017699198332, -1326.7913593961855, -1342.8801712603308, -1358.9573684076313, -1375.012113737408, -1391.0335701445583, -1407.0109005288687, -1422.9332677864004, -1438.7898348146118, -1454.5697645111939, -1470.2622197729072, -1485.8563634974414, -1501.3413585817907, -1516.706367923878, -1531.9405544206963, -1547.0330809699371, -1561.9731104676612, -1576.7498058122585, -1591.3523299011867, -1605.769845631672, -1619.9915159000086, -1634.0065036048181, -1647.803971643094, -1661.3730829122944, -1674.7030003091784, -1687.7828867316712, -1700.6019050765315, -1713.1492182409854, -1725.4139891229568, -1737.3853806201366, -1749.0525556288196, -1760.4046770466955, -1771.4309077712244, -1782.1204107000958, -1792.4623487296049, -1802.445884758141, -1812.060181682464, -1821.2944024002645, -1830.1377098083033, -1838.5792668038046, -1846.6082362849265, -1854.2137811493594, -1861.3850642931648, -1868.1112486138006, -1874.3814970096573, -1880.1849723765629, -1885.5108376129065, -1890.348255616147, -1894.6863892830445, -1898.5144015108233, -1901.8214551978745, -1904.5967132397927, -1906.829338536132, -1908.5084939817896, -1909.6233424756208, -1910.1630469146185, -1910.1167701962406, -1909.4736752170136, -1908.2229248755607, -1906.3582096123134, -1903.8985497653484, -1900.8717698352407, -1897.305703151971, -1893.2281830417926, -1888.6670428346845, -1883.6501158578321, -1878.2052354395853, -1872.3602349089927, -1866.1429475930054, -1859.5812068213709, -1852.7028459203434, -1845.5356982201333, -1838.1075970479287, -1830.44637573231, -1822.5798676009285, -1814.5359059826003, -1806.3423242052088, -1798.0269555968698, -1789.6176334868653, -1781.1421912023798, -1772.6284620712977, -1764.1042794228995, -1755.5974765850697, -1747.1358868859243, -1738.7473436533471, -1730.4596802159213, -1722.3007299019955, -1714.2983260401527, -1706.4803019578103, -1698.8744909833185, -1691.5087264452593, -1684.4108416715173, -1677.6086699906734, -1671.130044731079, -1665.0027992203834, -1659.2547667867038, -1653.9137807595544, -1649.0076744656546, -1644.5642812342846, -1640.611434392864, -1637.1769672702067, -1634.288713194197, -1631.9745054936502, -1630.2621774955187, -1629.1795625290833, -1628.754493923159, -1629.0148050046994, -1629.9883291020526, -1631.7028995444998, -1634.1863496592266, -1637.46651277435, -1641.5712222186846, -1646.5283113208136, -1652.365613408387, -1659.1109618092887, -1666.7921898525674, -1675.4371308658738, -1685.0736181773245, -1695.7294851157349, -1707.4325650092214, -1720.210691185901, -1734.0916969736572, -1749.1034157013055, -1765.273680696031, -1782.6303252871148, -1801.2011828026737, -1821.0140865705907, -1842.0968699196815, -1864.4773661773647, -1888.1834086724562, -1913.242830732372, -1939.6834656861608, -1967.5331468624065, -1996.8197075878272, -2027.5709811914712], \"z\": [-85.05519268034274, 110.11994292068205, 43.22307679729104, 238.16511989478857, 363.77328222426513, 239.44376649381596, 298.2378562875092, 359.84969611978164, 423.9289879351855, 490.12543367967004, 558.0887352996506, 627.4685947392136, 697.9294918817468, 769.3390031475575, 841.7123142820783, 915.0679360651411, 989.4243792723863, 1064.8001546831802, 1141.2137730736285, 1218.6837452226316, 1297.2285819086246, 1376.8667939067816, 1457.616891997401, 1539.4973869561218, 1622.526789562311, 1706.723610592075, 1792.1063155080192, 1878.6692968104035, 1966.3433435540646, 2055.0488617024384, 2144.7062572240825, 2235.2359360824335, 2326.5583042446524, 2418.593767675571, 2511.2627323418856, 2604.485604209825, 2698.182789242361, 2792.2746934094466, 2886.6817226735875, 2981.32428300241, 3076.122780360747, 3170.9976207148284, 3265.8692100313488, 3360.65795427328, 3455.284259409644, 3549.6685314048077, 3643.7311762250024, 3737.392599835061, 3830.5732082021423, 3923.193407291081, 4015.1736030681054, 4106.434755107854, 4196.935792852193, 4286.697408250533, 4375.745961355511, 4464.107812221628, 4551.809320899192, 4638.876847441774, 4725.336751902476, 4811.215394333005, 4896.539134786464, 4981.33433331456, 5065.627349970862, 5149.444544807542, 5232.812277877239, 5315.756909233051, 5398.304798927158, 5480.48230701033, 5562.315793538465, 5643.831618562342, 5725.056142133661, 5806.015724306926, 5886.736725133844, 5967.2455046665855, 6047.5684229587205, 6127.73184006149, 6207.762116028462, 6287.685610912275, 6367.528684765101, 6447.317697639576, 6527.079009588342, 6606.838980664034, 6686.62397091929, 6766.460340406746, 6846.374449178112, 6926.392657286953, 7006.5413247845145, 7086.846811726689, 7167.335478161927, 7248.033684145659, 7328.967789729126, 7410.164154964963, 7491.649139906745, 7573.449104605242, 7655.590409114959, 7738.099413487594, 7821.0024777757935, 7904.325962031725, 7988.0962263075635, 8072.339630658272, 8157.082535134627, 8242.351299789267, 8328.172284674365, 8414.570351632778, 8501.547608480323, 8589.088473307434, 8677.176899019629, 8765.796838521957, 8854.93224471854, 8944.56707051536, 9034.685268817468, 9125.270792528989, 9216.307594556827, 9307.779627804179, 9399.670845177956, 9491.965199581811, 9584.646643921733, 9677.6991311023, 9771.106614028104, 9864.853045605589, 9958.922378739342, 10053.29856633395, 10147.965561294464, 10242.907316526864, 10338.107784935739, 10433.550919426603, 10529.220672903117, 10625.100998272654, 10721.175848437939, 10817.429176306818, 10913.844934782011, 11010.407076769043, 11107.099555172956, 11203.906322900206, 11300.81133285444, 11397.798537942117, 11494.851891066412, 11591.955345134253, 11689.092853049748, 11786.248367717957, 11883.405842044856, 11980.549228935037, 12077.66248129308, 12174.72955202451, 12271.734394034836, 12368.66096022818, 12465.49320351053, 12562.215076787395, 12658.81053296244, 12755.263524941167, 12851.558005630503, 12947.677927932702, 13043.607244754208, 13139.329909000548, 13234.829873576296, 13330.091091386976, 13425.097515337167, 13519.833098332398, 13614.281793277712, 13708.427553076765, 13802.2543306374, 13895.746078862807, 13988.886750658045, 14081.660298929084, 14174.050676580984, 14266.041836518327, 14357.617731646167, 14448.762314870022, 14539.459539094476, 14629.693357225971, 14719.447722167708, 14808.706739705522, 14897.464115126524, 14985.728683640249, 15073.510611701755, 15160.820065767504, 15247.667212292085, 15334.062217732428, 15420.015248543115, 15505.536471179685, 15590.636052099055, 15675.324157755356, 15759.610954605045, 15843.506609104108, 15927.021287707146, 16010.165156870615, 16092.948383049576, 16175.381132701412, 16257.473572279328, 16339.235868239775, 16420.678187039215, 16501.81069513224, 16582.64355897531, 16663.186945023946, 16743.45101973368, 16823.445949559566, 16903.181900958065, 16982.669040384702, 17061.91753429454, 17140.9375491431, 17219.73925138777, 17298.33280748222, 17376.72838388337, 17454.936147046275, 17532.966263426002, 17610.82889947854, 17688.53422166081, 17766.092396426946, 17843.5135902334, 17920.80796953477, 17997.985700789373, 18075.05695044948, 18152.03188497247, 18228.920670812953, 18305.733474428765, 18382.480462273583, 18459.171800802927, 18535.817656473722, 18612.428195741028, 18689.013585060835, 18765.583990887277, 18842.149579678666, 18918.720517888665, 18995.306971972343, 19071.919108387086, 19148.567093587946, 19225.261094030455, 19302.01127616968, 19378.82780646253, 19455.72085136361, 19532.700577329375, 19609.77715081396, 19686.960738275666, 19764.26150616724, 19841.68962094607, 19919.255249067206, 19996.968556987118, 20074.839711159933, 20152.878878042105, 20231.096224089615, 20309.501915758006, 20388.106119502336, 20466.919001778588, 20545.950729043227, 20625.211467750367, 20704.711384356488, 20784.4606453171, 20864.4694170882, 20944.74786612531, 21025.30615888303, 21106.154461819213, 21187.30294138705, 21268.761764043942, 21350.541096244007, 21432.65110444464, 21515.10195510089, 21597.90381466784, 21681.066849600524, 21764.601226356346, 21848.517111389894, 21932.824671157166, 22017.534072113685, 22102.65548071498, 22188.199063416567, 22274.174986674447, 22360.593416944608, 22447.46452068118, 22534.79846434202, 22622.605414380323, 22710.89553725393, 22799.67899941746, 22888.965967326425, 22978.76660743635, 23069.09108620463, 23159.949570083994, 23251.348834584467, 23343.27668414032, 23435.71432922501, 23528.642973697744, 23622.043821421918, 23715.898076255806, 23810.186942062806, 23904.891622702125, 23999.993322035763, 24095.473243925255, 24191.312592230275, 24287.49257081328, 24383.994383533485, 24480.79923425382, 24577.888326834425, 24675.242865136363, 24772.844053020235, 24870.67309434852, 24968.711192980874, 25066.939552778374, 25165.33937760256, 25263.89187131543, 25362.578237776175, 25461.379680846352, 25560.277404387016, 25659.25261226064, 25758.286508326415, 25857.36029644636, 25956.45518048061, 26055.55236429069, 26154.633051738143, 26253.6784466831, 26352.669752987567, 26451.58817451168, 26550.41491511697, 26649.13117866497, 26747.718169016294, 26846.15709003108, 26944.429145570844, 27042.515539497133, 27140.397475671027, 27238.056157953106, 27335.472790204924, 27432.628576286603, 27529.504720060155, 27626.082425386176, 27722.34289612481, 27818.267336138524, 27913.836949288376, 28009.03293943452, 28103.836510438006, 28198.22886616085, 28292.191210463174, 28385.704747206066, 28478.75068025058, 28571.310213458255, 28663.364550690167, 28754.894895806447, 28845.882452668622, 28936.308425138242, 29026.15401707543, 29115.40043234173, 29204.02887479868, 29292.020548305944, 29379.35665672645, 29466.018403919414, 29551.986993746366, 29637.243630069308, 29721.769516747445, 29805.545857643705, 29888.55385661824, 29970.774717532564, 30052.18964424729, 30132.77984062303, 30212.526510521304, 30291.41085780412]}],\n",
              "                        {\"legend\": {\"tracegroupgap\": 0}, \"margin\": {\"t\": 60}, \"scene\": {\"domain\": {\"x\": [0.0, 1.0], \"y\": [0.0, 1.0]}, \"xaxis\": {\"title\": {\"text\": \"x\"}}, \"yaxis\": {\"title\": {\"text\": \"y\"}}, \"zaxis\": {\"title\": {\"text\": \"z\"}}}, \"template\": {\"data\": {\"bar\": [{\"error_x\": {\"color\": \"#2a3f5f\"}, \"error_y\": {\"color\": \"#2a3f5f\"}, \"marker\": {\"line\": {\"color\": \"#E5ECF6\", \"width\": 0.5}}, \"type\": \"bar\"}], \"barpolar\": [{\"marker\": {\"line\": {\"color\": \"#E5ECF6\", \"width\": 0.5}}, \"type\": \"barpolar\"}], \"carpet\": [{\"aaxis\": {\"endlinecolor\": \"#2a3f5f\", \"gridcolor\": \"white\", \"linecolor\": \"white\", \"minorgridcolor\": \"white\", \"startlinecolor\": \"#2a3f5f\"}, \"baxis\": {\"endlinecolor\": \"#2a3f5f\", \"gridcolor\": \"white\", \"linecolor\": \"white\", \"minorgridcolor\": \"white\", \"startlinecolor\": \"#2a3f5f\"}, \"type\": \"carpet\"}], \"choropleth\": [{\"colorbar\": {\"outlinewidth\": 0, \"ticks\": \"\"}, \"type\": \"choropleth\"}], \"contour\": [{\"colorbar\": {\"outlinewidth\": 0, \"ticks\": \"\"}, \"colorscale\": [[0.0, \"#0d0887\"], [0.1111111111111111, \"#46039f\"], [0.2222222222222222, \"#7201a8\"], [0.3333333333333333, \"#9c179e\"], [0.4444444444444444, \"#bd3786\"], [0.5555555555555556, \"#d8576b\"], [0.6666666666666666, \"#ed7953\"], [0.7777777777777778, \"#fb9f3a\"], [0.8888888888888888, \"#fdca26\"], [1.0, \"#f0f921\"]], \"type\": \"contour\"}], \"contourcarpet\": [{\"colorbar\": {\"outlinewidth\": 0, \"ticks\": \"\"}, \"type\": \"contourcarpet\"}], \"heatmap\": [{\"colorbar\": {\"outlinewidth\": 0, \"ticks\": \"\"}, \"colorscale\": [[0.0, \"#0d0887\"], [0.1111111111111111, \"#46039f\"], [0.2222222222222222, \"#7201a8\"], [0.3333333333333333, \"#9c179e\"], [0.4444444444444444, \"#bd3786\"], [0.5555555555555556, \"#d8576b\"], [0.6666666666666666, \"#ed7953\"], [0.7777777777777778, \"#fb9f3a\"], [0.8888888888888888, \"#fdca26\"], [1.0, \"#f0f921\"]], \"type\": \"heatmap\"}], \"heatmapgl\": [{\"colorbar\": {\"outlinewidth\": 0, \"ticks\": \"\"}, \"colorscale\": [[0.0, \"#0d0887\"], [0.1111111111111111, \"#46039f\"], [0.2222222222222222, \"#7201a8\"], [0.3333333333333333, \"#9c179e\"], [0.4444444444444444, \"#bd3786\"], [0.5555555555555556, \"#d8576b\"], [0.6666666666666666, \"#ed7953\"], [0.7777777777777778, \"#fb9f3a\"], [0.8888888888888888, \"#fdca26\"], [1.0, \"#f0f921\"]], \"type\": \"heatmapgl\"}], \"histogram\": [{\"marker\": {\"colorbar\": {\"outlinewidth\": 0, \"ticks\": \"\"}}, \"type\": \"histogram\"}], \"histogram2d\": [{\"colorbar\": {\"outlinewidth\": 0, \"ticks\": \"\"}, \"colorscale\": [[0.0, \"#0d0887\"], [0.1111111111111111, \"#46039f\"], [0.2222222222222222, \"#7201a8\"], [0.3333333333333333, \"#9c179e\"], [0.4444444444444444, \"#bd3786\"], [0.5555555555555556, \"#d8576b\"], [0.6666666666666666, \"#ed7953\"], [0.7777777777777778, \"#fb9f3a\"], [0.8888888888888888, \"#fdca26\"], [1.0, \"#f0f921\"]], \"type\": \"histogram2d\"}], \"histogram2dcontour\": [{\"colorbar\": {\"outlinewidth\": 0, \"ticks\": \"\"}, \"colorscale\": [[0.0, \"#0d0887\"], [0.1111111111111111, \"#46039f\"], [0.2222222222222222, \"#7201a8\"], [0.3333333333333333, \"#9c179e\"], [0.4444444444444444, \"#bd3786\"], [0.5555555555555556, \"#d8576b\"], [0.6666666666666666, \"#ed7953\"], [0.7777777777777778, \"#fb9f3a\"], [0.8888888888888888, \"#fdca26\"], [1.0, \"#f0f921\"]], \"type\": \"histogram2dcontour\"}], \"mesh3d\": [{\"colorbar\": {\"outlinewidth\": 0, \"ticks\": \"\"}, \"type\": \"mesh3d\"}], \"parcoords\": [{\"line\": {\"colorbar\": {\"outlinewidth\": 0, \"ticks\": \"\"}}, \"type\": \"parcoords\"}], \"pie\": [{\"automargin\": true, \"type\": \"pie\"}], \"scatter\": [{\"marker\": {\"colorbar\": {\"outlinewidth\": 0, \"ticks\": \"\"}}, \"type\": \"scatter\"}], \"scatter3d\": [{\"line\": {\"colorbar\": {\"outlinewidth\": 0, \"ticks\": \"\"}}, \"marker\": {\"colorbar\": {\"outlinewidth\": 0, \"ticks\": \"\"}}, \"type\": \"scatter3d\"}], \"scattercarpet\": [{\"marker\": {\"colorbar\": {\"outlinewidth\": 0, \"ticks\": \"\"}}, \"type\": \"scattercarpet\"}], \"scattergeo\": [{\"marker\": {\"colorbar\": {\"outlinewidth\": 0, \"ticks\": \"\"}}, \"type\": \"scattergeo\"}], \"scattergl\": [{\"marker\": {\"colorbar\": {\"outlinewidth\": 0, \"ticks\": \"\"}}, \"type\": \"scattergl\"}], \"scattermapbox\": [{\"marker\": {\"colorbar\": {\"outlinewidth\": 0, \"ticks\": \"\"}}, \"type\": \"scattermapbox\"}], \"scatterpolar\": [{\"marker\": {\"colorbar\": {\"outlinewidth\": 0, \"ticks\": \"\"}}, \"type\": \"scatterpolar\"}], \"scatterpolargl\": [{\"marker\": {\"colorbar\": {\"outlinewidth\": 0, \"ticks\": \"\"}}, \"type\": \"scatterpolargl\"}], \"scatterternary\": [{\"marker\": {\"colorbar\": {\"outlinewidth\": 0, \"ticks\": \"\"}}, \"type\": \"scatterternary\"}], \"surface\": [{\"colorbar\": {\"outlinewidth\": 0, \"ticks\": \"\"}, \"colorscale\": [[0.0, \"#0d0887\"], [0.1111111111111111, \"#46039f\"], [0.2222222222222222, \"#7201a8\"], [0.3333333333333333, \"#9c179e\"], [0.4444444444444444, \"#bd3786\"], [0.5555555555555556, \"#d8576b\"], [0.6666666666666666, \"#ed7953\"], [0.7777777777777778, \"#fb9f3a\"], [0.8888888888888888, \"#fdca26\"], [1.0, \"#f0f921\"]], \"type\": \"surface\"}], \"table\": [{\"cells\": {\"fill\": {\"color\": \"#EBF0F8\"}, \"line\": {\"color\": \"white\"}}, \"header\": {\"fill\": {\"color\": \"#C8D4E3\"}, \"line\": {\"color\": \"white\"}}, \"type\": \"table\"}]}, \"layout\": {\"annotationdefaults\": {\"arrowcolor\": \"#2a3f5f\", \"arrowhead\": 0, \"arrowwidth\": 1}, \"coloraxis\": {\"colorbar\": {\"outlinewidth\": 0, \"ticks\": \"\"}}, \"colorscale\": {\"diverging\": [[0, \"#8e0152\"], [0.1, \"#c51b7d\"], [0.2, \"#de77ae\"], [0.3, \"#f1b6da\"], [0.4, \"#fde0ef\"], [0.5, \"#f7f7f7\"], [0.6, \"#e6f5d0\"], [0.7, \"#b8e186\"], [0.8, \"#7fbc41\"], [0.9, \"#4d9221\"], [1, \"#276419\"]], \"sequential\": [[0.0, \"#0d0887\"], [0.1111111111111111, \"#46039f\"], [0.2222222222222222, \"#7201a8\"], [0.3333333333333333, \"#9c179e\"], [0.4444444444444444, \"#bd3786\"], [0.5555555555555556, \"#d8576b\"], [0.6666666666666666, \"#ed7953\"], [0.7777777777777778, \"#fb9f3a\"], [0.8888888888888888, \"#fdca26\"], [1.0, \"#f0f921\"]], \"sequentialminus\": [[0.0, \"#0d0887\"], [0.1111111111111111, \"#46039f\"], [0.2222222222222222, \"#7201a8\"], [0.3333333333333333, \"#9c179e\"], [0.4444444444444444, \"#bd3786\"], [0.5555555555555556, \"#d8576b\"], [0.6666666666666666, \"#ed7953\"], [0.7777777777777778, \"#fb9f3a\"], [0.8888888888888888, \"#fdca26\"], [1.0, \"#f0f921\"]]}, \"colorway\": [\"#636efa\", \"#EF553B\", \"#00cc96\", \"#ab63fa\", \"#FFA15A\", \"#19d3f3\", \"#FF6692\", \"#B6E880\", \"#FF97FF\", \"#FECB52\"], \"font\": {\"color\": \"#2a3f5f\"}, \"geo\": {\"bgcolor\": \"white\", \"lakecolor\": \"white\", \"landcolor\": \"#E5ECF6\", \"showlakes\": true, \"showland\": true, \"subunitcolor\": \"white\"}, \"hoverlabel\": {\"align\": \"left\"}, \"hovermode\": \"closest\", \"mapbox\": {\"style\": \"light\"}, \"paper_bgcolor\": \"white\", \"plot_bgcolor\": \"#E5ECF6\", \"polar\": {\"angularaxis\": {\"gridcolor\": \"white\", \"linecolor\": \"white\", \"ticks\": \"\"}, \"bgcolor\": \"#E5ECF6\", \"radialaxis\": {\"gridcolor\": \"white\", \"linecolor\": \"white\", \"ticks\": \"\"}}, \"scene\": {\"xaxis\": {\"backgroundcolor\": \"#E5ECF6\", \"gridcolor\": \"white\", \"gridwidth\": 2, \"linecolor\": \"white\", \"showbackground\": true, \"ticks\": \"\", \"zerolinecolor\": \"white\"}, \"yaxis\": {\"backgroundcolor\": \"#E5ECF6\", \"gridcolor\": \"white\", \"gridwidth\": 2, \"linecolor\": \"white\", \"showbackground\": true, \"ticks\": \"\", \"zerolinecolor\": \"white\"}, \"zaxis\": {\"backgroundcolor\": \"#E5ECF6\", \"gridcolor\": \"white\", \"gridwidth\": 2, \"linecolor\": \"white\", \"showbackground\": true, \"ticks\": \"\", \"zerolinecolor\": \"white\"}}, \"shapedefaults\": {\"line\": {\"color\": \"#2a3f5f\"}}, \"ternary\": {\"aaxis\": {\"gridcolor\": \"white\", \"linecolor\": \"white\", \"ticks\": \"\"}, \"baxis\": {\"gridcolor\": \"white\", \"linecolor\": \"white\", \"ticks\": \"\"}, \"bgcolor\": \"#E5ECF6\", \"caxis\": {\"gridcolor\": \"white\", \"linecolor\": \"white\", \"ticks\": \"\"}}, \"title\": {\"x\": 0.05}, \"xaxis\": {\"automargin\": true, \"gridcolor\": \"white\", \"linecolor\": \"white\", \"ticks\": \"\", \"title\": {\"standoff\": 15}, \"zerolinecolor\": \"white\", \"zerolinewidth\": 2}, \"yaxis\": {\"automargin\": true, \"gridcolor\": \"white\", \"linecolor\": \"white\", \"ticks\": \"\", \"title\": {\"standoff\": 15}, \"zerolinecolor\": \"white\", \"zerolinewidth\": 2}}}},\n",
              "                        {\"responsive\": true}\n",
              "                    ).then(function(){\n",
              "                            \n",
              "var gd = document.getElementById('85035224-18dc-460b-893a-7812ba09a074');\n",
              "var x = new MutationObserver(function (mutations, observer) {{\n",
              "        var display = window.getComputedStyle(gd).display;\n",
              "        if (!display || display === 'none') {{\n",
              "            console.log([gd, 'removed!']);\n",
              "            Plotly.purge(gd);\n",
              "            observer.disconnect();\n",
              "        }}\n",
              "}});\n",
              "\n",
              "// Listen for the removal of the full notebook cells\n",
              "var notebookContainer = gd.closest('#notebook-container');\n",
              "if (notebookContainer) {{\n",
              "    x.observe(notebookContainer, {childList: true});\n",
              "}}\n",
              "\n",
              "// Listen for the clearing of the current output cell\n",
              "var outputEl = gd.closest('.output');\n",
              "if (outputEl) {{\n",
              "    x.observe(outputEl, {childList: true});\n",
              "}}\n",
              "\n",
              "                        })\n",
              "                };\n",
              "                \n",
              "            </script>\n",
              "        </div>\n",
              "</body>\n",
              "</html>"
            ]
          },
          "metadata": {
            "tags": []
          }
        }
      ]
    },
    {
      "cell_type": "code",
      "metadata": {
        "id": "7pIzhi5ice8y",
        "colab_type": "code",
        "colab": {
          "base_uri": "https://localhost:8080/",
          "height": 35
        },
        "outputId": "15283fda-cc3a-40d9-d762-9f116760e670"
      },
      "source": [
        "error = np.sqrt((a.x-pos_gauss.x)**2 + (a.z-pos_gauss.z)**2+ (a.z-pos_gauss.z)**2 )\n",
        "error = error.fillna(0)\n",
        "mse = error.sum()/len(error-1)\n",
        "mse"
      ],
      "execution_count": 33,
      "outputs": [
        {
          "output_type": "execute_result",
          "data": {
            "text/plain": [
              "123.97683191010924"
            ]
          },
          "metadata": {
            "tags": []
          },
          "execution_count": 33
        }
      ]
    },
    {
      "cell_type": "code",
      "metadata": {
        "id": "84jPv8zMuWMC",
        "colab_type": "code",
        "colab": {
          "base_uri": "https://localhost:8080/",
          "height": 281
        },
        "outputId": "f5ce8fae-6935-4ec6-ce37-90714aa0b6bd"
      },
      "source": [
        "f, ax = plt.subplots()\n",
        "ax.plot(error[:-1])\n",
        "ax.axhline(y=0,color='red')\n",
        "ax.set_title('Error')\n",
        "plt.show()"
      ],
      "execution_count": 36,
      "outputs": [
        {
          "output_type": "display_data",
          "data": {
            "image/png": "[encoded data removed]",
            "text/plain": [
              "<Figure size 432x288 with 1 Axes>"
            ]
          },
          "metadata": {
            "tags": [],
            "needs_background": "light"
          }
        }
      ]
    },
    {
      "cell_type": "code",
      "metadata": {
        "id": "1rFFj1n5ctsY",
        "colab_type": "code",
        "colab": {}
      },
      "source": [
        ""
      ],
      "execution_count": null,
      "outputs": []
    },
    {
      "cell_type": "code",
      "metadata": {
        "id": "HDAJwqO3c3z4",
        "colab_type": "code",
        "colab": {
          "base_uri": "https://localhost:8080/",
          "height": 35
        },
        "outputId": "10e9318c-bace-4191-d206-e309c76fe90e"
      },
      "source": [
        ""
      ],
      "execution_count": null,
      "outputs": [
        {
          "output_type": "execute_result",
          "data": {
            "text/plain": [
              "124.198236670821"
            ]
          },
          "metadata": {
            "tags": []
          },
          "execution_count": 297
        }
      ]
    },
    {
      "cell_type": "markdown",
      "metadata": {
        "id": "tphv-n7GxINl",
        "colab_type": "text"
      },
      "source": [
        "# Situación 2: Ruido uniforme en la posición"
      ]
    },
    {
      "cell_type": "code",
      "metadata": {
        "id": "6C7lGrU6xSu8",
        "colab_type": "code",
        "colab": {}
      },
      "source": [
        "# Si el desvio es de 10 en una uniforme, hay que calcular el máximo, asumiendo que el minimo es en 0\n",
        "# ver formula de varianza y queda como acá\n",
        "ruido_uniforme = np.random.uniform(low=0,high=10*np.sqrt(12),size=(5,3))\n",
        "# Posicion con primeros 5 valores con ruido gaussiano\n",
        "pos_uni = pos.copy()\n",
        "pos_uni = pos_uni.iloc[:5,1:4] + ruido_uniforme#+ 11"
      ],
      "execution_count": 27,
      "outputs": []
    },
    {
      "cell_type": "code",
      "metadata": {
        "id": "rbfw5ex-rYWM",
        "colab_type": "code",
        "colab": {}
      },
      "source": [
        "# Actualizar la matriz R \n",
        "R_uni"
      ],
      "execution_count": null,
      "outputs": []
    },
    {
      "cell_type": "code",
      "metadata": {
        "id": "2PbY2jOSxS0M",
        "colab_type": "code",
        "colab": {}
      },
      "source": [
        "pred_uni = Kalman(a = Kalman(arranque, P_0_0,  pos_gauss, A, C, Q, R_uni))"
      ],
      "execution_count": null,
      "outputs": []
    },
    {
      "cell_type": "markdown",
      "metadata": {
        "id": "DUGSzeFIxKnL",
        "colab_type": "text"
      },
      "source": [
        "# Situación 3: Ruido Gaussiano en posición y velocidad"
      ]
    },
    {
      "cell_type": "code",
      "metadata": {
        "id": "CRYwa9m1xNGb",
        "colab_type": "code",
        "colab": {}
      },
      "source": [
        ""
      ],
      "execution_count": null,
      "outputs": []
    }
  ]
}